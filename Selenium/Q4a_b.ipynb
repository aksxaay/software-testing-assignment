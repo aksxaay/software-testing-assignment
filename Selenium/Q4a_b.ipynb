{
 "cells": [
  {
   "cell_type": "code",
   "execution_count": 1,
   "metadata": {},
   "outputs": [],
   "source": [
    "from selenium import webdriver \n",
    "from selenium.webdriver.support.select import Select\n",
    "from selenium.webdriver.common.by import By "
   ]
  },
  {
   "cell_type": "code",
   "execution_count": 14,
   "metadata": {},
   "outputs": [],
   "source": [
    "driver = webdriver.Chrome()"
   ]
  },
  {
   "cell_type": "code",
   "execution_count": 15,
   "metadata": {},
   "outputs": [
    {
     "name": "stderr",
     "output_type": "stream",
     "text": [
      "C:\\Users\\Kanishka\\AppData\\Local\\Temp\\ipykernel_33692\\3461449634.py:2: DeprecationWarning: find_element_by_xpath is deprecated. Please use find_element(by=By.XPATH, value=xpath) instead\n",
      "  drop_down = driver.find_element_by_xpath(\"//i[@class = 'gfg-icon gfg-icon_ndot cursor-p']\")\n"
     ]
    }
   ],
   "source": [
    "driver.get(\"https://www.geeksforgeeks.org/\")\n",
    "drop_down = driver.find_element_by_xpath(\"//i[@class = 'gfg-icon gfg-icon_ndot cursor-p']\")\n",
    "driver.implicitly_wait(2)\n",
    "drop_down.click()"
   ]
  }
 ],
 "metadata": {
  "interpreter": {
   "hash": "8363e147578c889e68fb1b86b81bce588dc2d5bd47728cf452283485d541232a"
  },
  "kernelspec": {
   "display_name": "Python 3.10.2 64-bit",
   "language": "python",
   "name": "python3"
  },
  "language_info": {
   "codemirror_mode": {
    "name": "ipython",
    "version": 3
   },
   "file_extension": ".py",
   "mimetype": "text/x-python",
   "name": "python",
   "nbconvert_exporter": "python",
   "pygments_lexer": "ipython3",
   "version": "3.10.2"
  },
  "orig_nbformat": 4
 },
 "nbformat": 4,
 "nbformat_minor": 2
}
