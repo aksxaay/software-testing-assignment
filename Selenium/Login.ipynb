{
 "cells": [
  {
   "cell_type": "code",
   "execution_count": 7,
   "metadata": {},
   "outputs": [],
   "source": [
    "from selenium import webdriver\n",
    "from selenium.webdriver.common.keys import Keys"
   ]
  },
  {
   "cell_type": "code",
   "execution_count": 17,
   "metadata": {},
   "outputs": [],
   "source": [
    "chrome_driver = webdriver.Chrome()"
   ]
  },
  {
   "cell_type": "code",
   "execution_count": 18,
   "metadata": {},
   "outputs": [
    {
     "name": "stderr",
     "output_type": "stream",
     "text": [
      "C:\\Users\\Kanishka\\AppData\\Local\\Temp\\ipykernel_32440\\1598773870.py:3: DeprecationWarning: find_element_by_* commands are deprecated. Please use find_element() instead\n",
      "  username = chrome_driver.find_element_by_id(\"email\")\n",
      "C:\\Users\\Kanishka\\AppData\\Local\\Temp\\ipykernel_32440\\1598773870.py:5: DeprecationWarning: find_element_by_* commands are deprecated. Please use find_element() instead\n",
      "  password = chrome_driver.find_element_by_id(\"pass\")\n",
      "C:\\Users\\Kanishka\\AppData\\Local\\Temp\\ipykernel_32440\\1598773870.py:7: DeprecationWarning: find_element_by_name is deprecated. Please use find_element(by=By.NAME, value=name) instead\n",
      "  login_button = chrome_driver.find_element_by_name(\"login\")\n"
     ]
    },
    {
     "name": "stdout",
     "output_type": "stream",
     "text": [
      "Login Unsuccessful\n"
     ]
    }
   ],
   "source": [
    "# Correct Login\n",
    "chrome_driver.get(\"https://www.facebook.com/\")\n",
    "username = chrome_driver.find_element_by_id(\"email\")\n",
    "username.send_keys(\"ktiwari426@gmail.com\")\n",
    "password = chrome_driver.find_element_by_id(\"pass\")\n",
    "password.send_keys(\"password\")\n",
    "login_button = chrome_driver.find_element_by_name(\"login\")\n",
    "login_button.click()\n",
    "if chrome_driver.title == \"Facebook – log in or sign up\":\n",
    "    print(\"Login Unsuccessful\")\n",
    "else:\n",
    "    print(\"Login Successful\")"
   ]
  },
  {
   "cell_type": "code",
   "execution_count": null,
   "metadata": {},
   "outputs": [],
   "source": []
  }
 ],
 "metadata": {
  "interpreter": {
   "hash": "8363e147578c889e68fb1b86b81bce588dc2d5bd47728cf452283485d541232a"
  },
  "kernelspec": {
   "display_name": "Python 3.10.1 64-bit",
   "language": "python",
   "name": "python3"
  },
  "language_info": {
   "codemirror_mode": {
    "name": "ipython",
    "version": 3
   },
   "file_extension": ".py",
   "mimetype": "text/x-python",
   "name": "python",
   "nbconvert_exporter": "python",
   "pygments_lexer": "ipython3",
   "version": "3.10.2"
  },
  "orig_nbformat": 4
 },
 "nbformat": 4,
 "nbformat_minor": 2
}
