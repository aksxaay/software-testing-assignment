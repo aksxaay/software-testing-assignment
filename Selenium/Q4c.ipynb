{
 "cells": [
  {
   "cell_type": "code",
   "execution_count": null,
   "metadata": {},
   "outputs": [],
   "source": []
  },
  {
   "cell_type": "code",
   "execution_count": 1,
   "metadata": {},
   "outputs": [],
   "source": [
    "from selenium import webdriver \n",
    "from selenium.webdriver.support.select import Select\n",
    "from selenium.webdriver.common.by import By\n",
    "from PIL import Image\n"
   ]
  },
  {
   "cell_type": "code",
   "execution_count": 2,
   "metadata": {},
   "outputs": [],
   "source": [
    "driver = webdriver.Chrome()"
   ]
  },
  {
   "cell_type": "code",
   "execution_count": 3,
   "metadata": {},
   "outputs": [
    {
     "name": "stderr",
     "output_type": "stream",
     "text": [
      "C:\\Users\\Kanishka\\AppData\\Local\\Temp\\ipykernel_35380\\1379349605.py:2: DeprecationWarning: find_elements_by_xpath is deprecated. Please use find_elements(by=By.XPATH, value=xpath) instead\n",
      "  elems = driver.find_elements_by_xpath('//img[@jsname = \"Q4LuWd\"]')\n"
     ]
    }
   ],
   "source": [
    "driver.get(\"https://www.google.com.hk/search?q=cars&hl=en&tbm=isch&source=hp&biw=1536&bih=746&ei=JOtyYrSBB7CxmAW-j57oAg&iflsig=AJiK0e8AAAAAYnL5NE6q-HgfvuCaBlW1pTVPVfC-XnEX&ved=0ahUKEwi0o9-j4Mb3AhWwGKYKHb6HBy0Q4dUDCAc&uact=5&oq=cars&gs_lcp=CgNpbWcQAzIICAAQgAQQsQMyBQgAEIAEMgUIABCABDIFCAAQgAQyBQgAEIAEMgUIABCABDIFCAAQgAQyBQgAEIAEMgUIABCABDIFCAAQgAQ6BAgAEAM6CAgAELEDEIMBOgsIABCABBCxAxCDAVC4BFjbB2C7CWgAcAB4AIABpQGIAYEFkgEDMC40mAEAoAEBqgELZ3dzLXdpei1pbWewAQA&sclient=img\")\n",
    "elems = driver.find_elements_by_xpath('//img[@jsname = \"Q4LuWd\"]')\n"
   ]
  },
  {
   "cell_type": "code",
   "execution_count": 5,
   "metadata": {},
   "outputs": [
    {
     "data": {
      "text/plain": [
       "list"
      ]
     },
     "execution_count": 5,
     "metadata": {},
     "output_type": "execute_result"
    }
   ],
   "source": [
    "type(elems)"
   ]
  }
 ],
 "metadata": {
  "interpreter": {
   "hash": "8363e147578c889e68fb1b86b81bce588dc2d5bd47728cf452283485d541232a"
  },
  "kernelspec": {
   "display_name": "Python 3.10.2 64-bit",
   "language": "python",
   "name": "python3"
  },
  "language_info": {
   "codemirror_mode": {
    "name": "ipython",
    "version": 3
   },
   "file_extension": ".py",
   "mimetype": "text/x-python",
   "name": "python",
   "nbconvert_exporter": "python",
   "pygments_lexer": "ipython3",
   "version": "3.10.2"
  },
  "orig_nbformat": 4
 },
 "nbformat": 4,
 "nbformat_minor": 2
}
